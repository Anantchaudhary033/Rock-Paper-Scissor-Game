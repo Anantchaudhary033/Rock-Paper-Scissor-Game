{
 "cells": [
  {
   "cell_type": "markdown",
   "id": "c38dddb7",
   "metadata": {},
   "source": [
    "# Rock Scissor and Paper - Game"
   ]
  },
  {
   "cell_type": "code",
   "execution_count": 2,
   "id": "e115cea7",
   "metadata": {},
   "outputs": [],
   "source": [
    "import random as rd"
   ]
  },
  {
   "cell_type": "code",
   "execution_count": 3,
   "id": "7932891c",
   "metadata": {},
   "outputs": [],
   "source": [
    "# Rock = 0, Paper = 1, Scissor = 2"
   ]
  },
  {
   "cell_type": "code",
   "execution_count": 4,
   "id": "db8ee107",
   "metadata": {},
   "outputs": [
    {
     "name": "stdout",
     "output_type": "stream",
     "text": [
      "enter number by user: 2\n",
      "computer_choose: 2\n",
      "game draw\n"
     ]
    }
   ],
   "source": [
    "user = int(input(\"enter number by user: \"))\n",
    "computer = rd.randint(0,2)\n",
    "print(\"computer_choose:\",computer)\n",
    "if user == computer:\n",
    "    print(\"game draw\")\n",
    "elif user == 2 and computer == 0:\n",
    "    print(\"you loose\")\n",
    "elif user == 0 and  computer == 2:\n",
    "    print(\"you win\")\n",
    "elif computer > user:\n",
    "    print(\"you loose\")\n",
    "elif user > computer:\n",
    "    print(\"you won\")"
   ]
  },
  {
   "cell_type": "code",
   "execution_count": null,
   "id": "fd0ce2bd",
   "metadata": {},
   "outputs": [],
   "source": []
  }
 ],
 "metadata": {
  "kernelspec": {
   "display_name": "Python 3 (ipykernel)",
   "language": "python",
   "name": "python3"
  },
  "language_info": {
   "codemirror_mode": {
    "name": "ipython",
    "version": 3
   },
   "file_extension": ".py",
   "mimetype": "text/x-python",
   "name": "python",
   "nbconvert_exporter": "python",
   "pygments_lexer": "ipython3",
   "version": "3.11.5"
  }
 },
 "nbformat": 4,
 "nbformat_minor": 5
}
