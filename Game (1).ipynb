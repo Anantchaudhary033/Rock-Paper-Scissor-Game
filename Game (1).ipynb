{
 "cells": [
  {
   "cell_type": "markdown",
   "id": "4a7595b8",
   "metadata": {},
   "source": [
    "# Rock Scissor and Paper - Game"
   ]
  },
  {
   "cell_type": "code",
   "execution_count": 2,
   "id": "d62c50b8",
   "metadata": {},
   "outputs": [],
   "source": [
    "import random as rd"
   ]
  },
  {
   "cell_type": "code",
   "execution_count": 3,
   "id": "5897ec8c",
   "metadata": {},
   "outputs": [],
   "source": [
    "# Rock = 0, Paper = 1, Scissor = 2"
   ]
  },
  {
   "cell_type": "code",
   "execution_count": 5,
   "id": "33798a79",
   "metadata": {},
   "outputs": [
    {
     "name": "stdout",
     "output_type": "stream",
     "text": [
      "enter any integer between 0 and 2: 2\n",
      "computer_choose: 0\n",
      "you loose\n"
     ]
    }
   ],
   "source": [
    "user = int(input(\"enter any integer between 0 and 2: \"))\n",
    "computer = rd.randint(0,2)\n",
    "print(\"computer_choose:\",computer)\n",
    "if user == computer:\n",
    "    print(\"game draw\")\n",
    "elif user == 2 and computer == 0:\n",
    "    print(\"you loose\")\n",
    "elif user == 0 and  computer == 2:\n",
    "    print(\"you win\")\n",
    "elif computer > user:\n",
    "    print(\"you loose\")\n",
    "elif computer < user:\n",
    "    print(\"you won\")"
   ]
  },
  {
   "cell_type": "code",
   "execution_count": null,
   "id": "062b78e4",
   "metadata": {},
   "outputs": [],
   "source": []
  }
 ],
 "metadata": {
  "kernelspec": {
   "display_name": "Python 3 (ipykernel)",
   "language": "python",
   "name": "python3"
  },
  "language_info": {
   "codemirror_mode": {
    "name": "ipython",
    "version": 3
   },
   "file_extension": ".py",
   "mimetype": "text/x-python",
   "name": "python",
   "nbconvert_exporter": "python",
   "pygments_lexer": "ipython3",
   "version": "3.11.5"
  }
 },
 "nbformat": 4,
 "nbformat_minor": 5
}
